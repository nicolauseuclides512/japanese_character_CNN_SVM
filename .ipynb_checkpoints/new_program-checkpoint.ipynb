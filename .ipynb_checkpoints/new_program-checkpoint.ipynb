{
 "cells": [
  {
   "cell_type": "code",
   "execution_count": 1,
   "metadata": {
    "slideshow": {
     "slide_type": "slide"
    }
   },
   "outputs": [],
   "source": [
    "import os\n",
    "import numpy as np\n",
    "import pandas as pd\n",
    "import cv2\n",
    "import matplotlib.pyplot as plt\n",
    "import tensorflow as tf\n",
    "%matplotlib inline\n",
    "\n",
    "import warnings\n",
    "warnings.filterwarnings('ignore')\n",
    "\n",
    "from keras.utils import to_categorical\n",
    "\n",
    "from sklearn.model_selection import train_test_split\n",
    "from sklearn.metrics import accuracy_score\n",
    "\n",
    "from tensorflow.keras.optimizers import Adam\n",
    "from tensorflow.keras.callbacks import EarlyStopping\n",
    "from tensorflow.keras.models import Sequential, Model\n",
    "from tensorflow.keras.layers import Dense, Activation, Flatten, Dropout, concatenate, Input, Conv2D, MaxPooling2D\n",
    "from tensorflow.keras.layers import LeakyReLU"
   ]
  },
  {
   "cell_type": "code",
   "execution_count": 2,
   "metadata": {
    "jupyter": {
     "outputs_hidden": false
    },
    "pycharm": {
     "name": "#%%\n"
    }
   },
   "outputs": [],
   "source": [
    "train_dir = '../thesis_program/data_image/train'\n",
    "test_dir = '../thesis_program/data_image/test'\n",
    "hiragana_train_dir = train_dir+\"/Hiragana\"\n",
    "katakana_train_dir = train_dir+\"/Katakana\"\n",
    "hiragana_test_dir = test_dir+\"/Hiragana\"\n",
    "katakana_test_dir = test_dir+\"/Katakana\"\n",
    "sample_submission = pd.read_csv('../thesis_program/sample_submission.csv')\n",
    "# data_dir = '../thesis_program/data_image_new'\n",
    "# hiragana_dir = data_dir+\"/Hiragana\"\n",
    "# katakana_dir = data_dir+\"/Katakana\""
   ]
  },
  {
   "cell_type": "code",
   "execution_count": 3,
   "metadata": {
    "jupyter": {
     "outputs_hidden": false
    },
    "pycharm": {
     "name": "#%%\n"
    }
   },
   "outputs": [],
   "source": [
    "letter_labels = [\n",
    "    [0, \"A\", \"A\"], [1, \"Ba\", \"Ba\"], [2, \"Be\", \"Be\"], [3, \"Bi\", \"Bi\"], [4, \"Bo\", \"Bo\"], [5, \"Bu\", \"Bu\"],\n",
    "    [6, \"Bya\", \"Bya\"], [7, \"Byo\", \"Byo\"], [8, \"Byu\", \"Byu\"], [9, \"Cha\", \"Cha\"], [10, \"Chi\", \"Chi\"],\n",
    "    [11, \"Cho\", \"Cho\"], [12, \"Chu\", \"Chu\"], [13, \"Da\", \"Da\"], [14, \"De\", \"De\"], [15, \"Do\", \"Do\"],\n",
    "    [16, \"E\", \"E\"], [17, \"Fu\", \"Fu\"], [18, \"Ga\", \"Ga\"], [19, \"Ge\", \"Ge\"], [20, \"Gi\", \"Gi\"],\n",
    "    [21, \"Go\", \"Go\"], [22, \"Gu\", \"Gu\"], [23, \"Gya\", \"Gya\"], [24, \"Gyo\", \"Gyo\"], [25, \"Gyu\", \"Gyu\"],\n",
    "    [26, \"Ha\", \"Ha\"], [27, \"He\", \"He\"], [28, \"Hi\", \"Hi\"], [29, \"Ho\", \"Ho\"], [30, \"Hya\", \"Hya\"],\n",
    "    [31, \"Hyo\", \"Hyo\"], [32, \"Hyu\", \"Hyu\"], [33, \"I\", \"I\"], [34, \"Ja\", \"Ja\"], [35, \"Ji\", \"Ji\"],\n",
    "    [36, \"Ji_2\", \"Ji\"], [37, \"Jo\", \"Jo\"], [38, \"Ju\", \"Ju\"], [39, \"Ka\", \"Ka\"], [40, \"Ke\", \"Ke\"],\n",
    "    [41, \"Ki\", \"Ki\"], [42, \"Ko\", \"Ko\"], [43, \"Ku\", \"Ku\"], [44, \"Kya\", \"Kya\"], [45, \"Kyo\", \"Kyo\"],\n",
    "    [46, \"Kyu\", \"Kyu\"], [47, \"Ma\", \"Ma\"], [48, \"Me\", \"Me\"], [49, \"Mi\", \"Mi\"], [50, \"Mo\", \"Mo\"],\n",
    "    [51, \"Mu\", \"Mu\"], [52, \"Mya\", \"Mya\"], [53, \"Myo\", \"Myo\"], [54, \"Myu\", \"Myu\"], [55, \"N\", \"N\"],\n",
    "    [56, \"Na\", \"Na\"], [57, \"Ne\", \"Ne\"], [58, \"Ni\", \"Ni\"], [59, \"No\", \"No\"], [60, \"Nu\", \"Nu\"],\n",
    "    [61, \"Nya\", \"Nya\"], [62, \"Nyo\", \"Nyo\"], [63, \"Nyu\", \"Nyu\"], [64, \"O\", \"O\"], [65, \"Pa\", \"Pa\"],\n",
    "    [66, \"Pe\", \"Pe\"], [67, \"Pi\", \"Pi\"], [68, \"Po\", \"Po\"], [69, \"Pu\", \"Pu\"], [70, \"Pya\", \"Pya\"],\n",
    "    [71, \"Pyo\", \"Pyo\"], [72, \"Pyu\", \"Pyu\"], [73, \"Ra\", \"Ra\"], [74, \"Re\", \"Re\"], [75, \"Ri\", \"Ri\"],\n",
    "    [76, \"Ro\", \"Ro\"], [77, \"Ru\", \"Ru\"], [78, \"Rya\", \"Rya\"], [79, \"Ryo\", \"Ryo\"], [80, \"Ryu\", \"Ryu\"],\n",
    "    [81, \"Sa\", \"Sa\"], [82, \"Se\", \"Se\"], [83, \"Sha\", \"Sha\"], [84, \"Shi\", \"Shi\"], [85, \"Sho\", \"Sho\"],\n",
    "    [86, \"Shu\", \"Shu\"], [87, \"So\", \"So\"], [88, \"Su\", \"Su\"], [89, \"Ta\", \"Ta\"], [90, \"Te\", \"Te\"],\n",
    "    [91, \"To\", \"To\"], [92, \"Tsu\", \"Tsu\"], [93, \"U\", \"U\"], [94, \"Wa\", \"Wa\"], [95, \"Wo\", \"Wo\"],\n",
    "    [96, \"Ya\", \"Ya\"], [97, \"Yo\", \"Yo\"], [98, \"Yu\", \"Yu\"], [99, \"Za\", \"Za\"], [100, \"Ze\", \"Ze\"],\n",
    "    [101, \"Zo\", \"Zo\"], [102, \"Zu\", \"Zu\"], [103, \"Zu_2\", \"Zu\"], [104, \"A\", \"A\"], [105, \"Ba\", \"Ba\"],\n",
    "    [106, \"Be\", \"Be\"], [107, \"Bi\", \"Bi\"], [108, \"Bo\", \"Bo\"], [109, \"Bu\", \"Bu\"], [110, \"Bya\", \"Bya\"],\n",
    "    [111, \"Byo\", \"Byo\"], [112, \"Byu\", \"Byu\"], [113, \"Cha\", \"Cha\"], [114, \"Che\", \"Che\"], [115, \"Chi\", \"Chi\"],\n",
    "    [116, \"Cho\", \"Cho\"], [117, \"Chu\", \"Chu\"], [118, \"Da\", \"Da\"], [119, \"De\", \"De\"], [120, \"Di\", \"Di\"],\n",
    "    [121, \"Do\", \"Do\"], [122, \"Du\", \"Du\"], [123, \"Dyu\", \"Dyu\"], [124, \"E\", \"E\"], [125, \"Fa\", \"Fa\"],\n",
    "    [126, \"Fe\", \"Fe\"], [127, \"Fi\", \"Fi\"], [128, \"Fo\", \"Fo\"], [129, \"Fu\", \"Fu\"], [130, \"Ga\", \"Ga\"],\n",
    "    [131, \"Ge\", \"Ge\"], [132, \"Gi\", \"Gi\"], [133, \"Go\", \"Go\"], [134, \"Gu\", \"Gu\"], [135, \"Gya\", \"Gya\"],\n",
    "    [136, \"Gyo\", \"Gyo\"], [137, \"Gyu\", \"Gyu\"], [138, \"Ha\", \"Ha\"], [139, \"He\", \"He\"], [140, \"Hi\", \"Hi\"],\n",
    "    [141, \"Ho\", \"Ho\"], [142, \"Hya\", \"Hya\"], [143, \"Hyo\", \"Hyo\"], [144, \"Hyu\", \"Hyu\"], [145, \"I\", \"I\"],\n",
    "    [146, \"Ja\", \"Ja\"], [147, \"Je\", \"Je\"], [148, \"Ji\", \"Ji\"], [149, \"Ji_2\", \"Ji\"], [150, \"Jo\", \"Jo\"],\n",
    "    [151, \"Ju\", \"Ju\"], [152, \"Ka\", \"Ka\"], [153, \"Ke\", \"Ke\"], [154, \"Ki\", \"Ki\"], [155, \"Ko\", \"Ko\"],\n",
    "    [156, \"Ku\", \"Ku\"], [157, \"Kya\", \"Kya\"], [158, \"Kyo\", \"Kyo\"], [159, \"Kyu\", \"Kyu\"], [160, \"Ma\", \"Ma\"],\n",
    "    [161, \"Me\", \"Me\"], [162, \"Mi\", \"Mi\"], [163, \"Mo\", \"Mo\"], [164, \"Mu\", \"Mu\"], [165, \"Mya\", \"Mya\"],\n",
    "    [166, \"Myo\", \"Myo\"], [167, \"Myu\", \"Myu\"], [168, \"N\", \"N\"], [169, \"Na\", \"Na\"], [170, \"Ne\", \"Ne\"],\n",
    "    [171, \"Ni\", \"Ni\"], [172, \"No\", \"No\"], [173, \"Nu\", \"Nu\"], [174, \"Nya\", \"Nya\"], [175, \"Nyo\", \"Nyo\"],\n",
    "    [176, \"Nyu\", \"Nyu\"], [177, \"O\", \"O\"], [178, \"Pa\", \"Pa\"], [179, \"Pe\", \"Pe\"], [180, \"Pi\", \"Pi\"],\n",
    "    [181, \"Po\", \"Po\"], [182, \"Pu\", \"Pu\"], [183, \"Pya\", \"Pya\"], [184, \"Pyo\", \"Pyo\"], [185, \"Pyu\", \"Pyu\"],\n",
    "    [186, \"Ra\", \"Ra\"], [187, \"Re\", \"Re\"], [188, \"Ri\", \"Ri\"], [189, \"Ro\", \"Ro\"], [190, \"Ru\", \"Ru\"],\n",
    "    [191, \"Rya\", \"Rya\"], [192, \"Ryo\", \"Ryo\"], [193, \"Ryu\", \"Ryu\"], [194, \"Sa\", \"Sa\"], [195, \"Se\", \"Se\"],\n",
    "    [196, \"Sha\", \"Sha\"], [197, \"She\", \"She\"], [198, \"Shi\", \"Shi\"], [199, \"Sho\", \"Sho\"], [200, \"Shu\", \"Shu\"],\n",
    "    [201, \"So\", \"So\"], [202, \"Su\", \"Su\"], [203, \"Ta\", \"Ta\"], [204, \"Te\", \"Te\"], [205, \"Ti\", \"Ti\"],\n",
    "    [206, \"To\", \"To\"], [207, \"Tsa\", \"Tsa\"], [208, \"Tse\", \"Tse\"], [209, \"Tso\", \"Tso\"], [210, \"Tsu\", \"Tsu\"],\n",
    "    [211, \"Tu\", \"Tu\"], [212, \"U\", \"U\"], [213, \"Wa\", \"Wa\"], [214, \"We\", \"We\"], [215, \"Wi\", \"Wi\"],\n",
    "    [216, \"Wo\", \"Wo\"], [217, \"Wo_2\", \"Wo\"], [218, \"Ya\", \"Ya\"], [219, \"Yo\", \"Yo\"], [220, \"Yu\", \"Yu\"],\n",
    "    [221, \"Za\", \"Za\"], [222, \"Ze\", \"Ze\"], [223, \"Zo\", \"Zo\"], [224, \"Zu\", \"Zu\"], [225, \"Zu_2\", \"Zu\"]\n",
    "]"
   ]
  },
  {
   "cell_type": "code",
   "execution_count": 4,
   "metadata": {
    "jupyter": {
     "outputs_hidden": false
    },
    "pycharm": {
     "name": "#%%\n"
    }
   },
   "outputs": [
    {
     "name": "stdout",
     "output_type": "stream",
     "text": [
      "Train Data\n",
      "A 46 images\n",
      "Ba 46 images\n",
      "Be 46 images\n",
      "Bi 46 images\n",
      "Bo 46 images\n",
      "Bu 46 images\n",
      "Bya 46 images\n",
      "Byo 46 images\n",
      "Byu 46 images\n",
      "Cha 46 images\n",
      "Chi 46 images\n",
      "Cho 46 images\n",
      "Chu 46 images\n",
      "Da 46 images\n",
      "De 46 images\n",
      "Do 46 images\n",
      "E 46 images\n",
      "Fu 46 images\n",
      "Ga 46 images\n",
      "Ge 46 images\n",
      "Gi 46 images\n",
      "Go 46 images\n",
      "Gu 46 images\n",
      "Gya 46 images\n",
      "Gyo 46 images\n",
      "Gyu 46 images\n",
      "Ha 46 images\n",
      "He 46 images\n",
      "Hi 46 images\n",
      "Ho 46 images\n",
      "Hya 46 images\n",
      "Hyo 46 images\n",
      "Hyu 46 images\n",
      "I 46 images\n",
      "Ja 46 images\n",
      "Ji 46 images\n",
      "Ji_2 46 images\n",
      "Jo 46 images\n",
      "Ju 46 images\n",
      "Ka 46 images\n",
      "Ke 46 images\n",
      "Ki 46 images\n",
      "Ko 46 images\n",
      "Ku 46 images\n",
      "Kya 46 images\n",
      "Kyo 46 images\n",
      "Kyu 46 images\n",
      "Ma 46 images\n",
      "Me 46 images\n",
      "Mi 46 images\n",
      "Mo 46 images\n",
      "Mu 46 images\n",
      "Mya 46 images\n",
      "Myo 46 images\n",
      "Myu 46 images\n",
      "N 46 images\n",
      "Na 46 images\n",
      "Ne 46 images\n",
      "Ni 46 images\n",
      "No 46 images\n",
      "Nu 46 images\n",
      "Nya 46 images\n",
      "Nyo 46 images\n",
      "Nyu 46 images\n",
      "O 46 images\n",
      "Pa 46 images\n",
      "Pe 46 images\n",
      "Pi 46 images\n",
      "Po 46 images\n",
      "Pu 46 images\n",
      "Pya 46 images\n",
      "Pyo 46 images\n",
      "Pyu 46 images\n",
      "Ra 46 images\n",
      "Re 46 images\n",
      "Ri 46 images\n",
      "Ro 46 images\n",
      "Ru 46 images\n",
      "Rya 46 images\n",
      "Ryo 46 images\n",
      "Ryu 46 images\n",
      "Sa 46 images\n",
      "Se 46 images\n",
      "Sha 46 images\n",
      "Shi 46 images\n",
      "Sho 46 images\n",
      "Shu 46 images\n",
      "So 46 images\n",
      "Su 46 images\n",
      "Ta 46 images\n",
      "Te 46 images\n",
      "To 46 images\n",
      "Tsu 46 images\n",
      "U 46 images\n",
      "Wa 46 images\n",
      "Wo 46 images\n",
      "Ya 46 images\n",
      "Yo 46 images\n",
      "Yu 46 images\n",
      "Za 46 images\n",
      "Ze 46 images\n",
      "Zo 46 images\n",
      "Zu 46 images\n",
      "Zu_2 46 images\n",
      "A 46 images\n",
      "Ba 46 images\n",
      "Be 46 images\n",
      "Bi 46 images\n",
      "Bo 46 images\n",
      "Bu 46 images\n",
      "Bya 46 images\n",
      "Byo 46 images\n",
      "Byu 46 images\n",
      "Cha 46 images\n",
      "Che 46 images\n",
      "Chi 46 images\n",
      "Cho 46 images\n",
      "Chu 46 images\n",
      "Da 46 images\n",
      "De 46 images\n",
      "Di 46 images\n",
      "Do 46 images\n",
      "Du 46 images\n",
      "Dyu 46 images\n",
      "E 46 images\n",
      "Fa 46 images\n",
      "Fe 46 images\n",
      "Fi 46 images\n",
      "Fo 46 images\n",
      "Fu 46 images\n",
      "Ga 46 images\n",
      "Ge 46 images\n",
      "Gi 46 images\n",
      "Go 46 images\n",
      "Gu 46 images\n",
      "Gya 46 images\n",
      "Gyo 46 images\n",
      "Gyu 46 images\n",
      "Ha 46 images\n",
      "He 46 images\n",
      "Hi 46 images\n",
      "Ho 46 images\n",
      "Hya 46 images\n",
      "Hyo 46 images\n",
      "Hyu 46 images\n",
      "I 46 images\n",
      "Ja 46 images\n",
      "Je 46 images\n",
      "Ji 46 images\n",
      "Ji_2 46 images\n",
      "Jo 46 images\n",
      "Ju 46 images\n",
      "Ka 46 images\n",
      "Ke 46 images\n",
      "Ki 46 images\n",
      "Ko 46 images\n",
      "Ku 46 images\n",
      "Kya 46 images\n",
      "Kyo 46 images\n",
      "Kyu 46 images\n",
      "Ma 46 images\n",
      "Me 46 images\n",
      "Mi 46 images\n",
      "Mo 46 images\n",
      "Mu 46 images\n",
      "Mya 46 images\n",
      "Myo 46 images\n",
      "Myu 46 images\n",
      "N 46 images\n",
      "Na 46 images\n",
      "Ne 46 images\n",
      "Ni 46 images\n",
      "No 46 images\n",
      "Nu 46 images\n",
      "Nya 46 images\n",
      "Nyo 46 images\n",
      "Nyu 46 images\n",
      "O 46 images\n",
      "Pa 46 images\n",
      "Pe 46 images\n",
      "Pi 46 images\n",
      "Po 46 images\n",
      "Pu 46 images\n",
      "Pya 46 images\n",
      "Pyo 46 images\n",
      "Pyu 46 images\n",
      "Ra 46 images\n",
      "Re 46 images\n",
      "Ri 46 images\n",
      "Ro 46 images\n",
      "Ru 46 images\n",
      "Rya 46 images\n",
      "Ryo 46 images\n",
      "Ryu 46 images\n",
      "Sa 46 images\n",
      "Se 46 images\n",
      "Sha 46 images\n",
      "She 46 images\n",
      "Shi 46 images\n",
      "Sho 46 images\n",
      "Shu 46 images\n",
      "So 46 images\n",
      "Su 46 images\n",
      "Ta 46 images\n",
      "Te 46 images\n",
      "Ti 46 images\n",
      "To 46 images\n",
      "Tsa 46 images\n",
      "Tse 46 images\n",
      "Tso 46 images\n",
      "Tsu 46 images\n",
      "Tu 46 images\n",
      "U 46 images\n",
      "Wa 46 images\n",
      "We 46 images\n",
      "Wi 46 images\n",
      "Wo 46 images\n",
      "Wo_2 46 images\n",
      "Ya 46 images\n",
      "Yo 46 images\n",
      "Yu 46 images\n",
      "Za 46 images\n",
      "Ze 46 images\n",
      "Zo 46 images\n",
      "Zu 46 images\n",
      "Zu_2 46 images\n",
      "Test Data\n",
      "A 46 images\n",
      "Ba 46 images\n",
      "Be 46 images\n",
      "Bi 46 images\n",
      "Bo 46 images\n",
      "Bu 46 images\n",
      "Bya 46 images\n",
      "Byo 46 images\n",
      "Byu 46 images\n",
      "Cha 46 images\n",
      "Chi 46 images\n",
      "Cho 46 images\n",
      "Chu 46 images\n",
      "Da 46 images\n",
      "De 46 images\n",
      "Do 46 images\n",
      "E 46 images\n",
      "Fu 46 images\n",
      "Ga 46 images\n",
      "Ge 46 images\n",
      "Gi 46 images\n",
      "Go 46 images\n",
      "Gu 46 images\n",
      "Gya 46 images\n",
      "Gyo 46 images\n",
      "Gyu 46 images\n",
      "Ha 46 images\n",
      "He 46 images\n",
      "Hi 46 images\n",
      "Ho 46 images\n",
      "Hya 46 images\n",
      "Hyo 46 images\n",
      "Hyu 46 images\n",
      "I 46 images\n",
      "Ja 46 images\n",
      "Ji 46 images\n",
      "Ji_2 46 images\n",
      "Jo 46 images\n",
      "Ju 46 images\n",
      "Ka 46 images\n",
      "Ke 46 images\n",
      "Ki 46 images\n",
      "Ko 46 images\n",
      "Ku 46 images\n",
      "Kya 46 images\n",
      "Kyo 46 images\n",
      "Kyu 46 images\n",
      "Ma 46 images\n",
      "Me 46 images\n",
      "Mi 46 images\n",
      "Mo 46 images\n",
      "Mu 46 images\n",
      "Mya 46 images\n",
      "Myo 46 images\n",
      "Myu 46 images\n",
      "N 46 images\n",
      "Na 46 images\n",
      "Ne 46 images\n",
      "Ni 46 images\n",
      "No 46 images\n",
      "Nu 46 images\n",
      "Nya 46 images\n",
      "Nyo 46 images\n",
      "Nyu 46 images\n",
      "O 46 images\n",
      "Pa 46 images\n",
      "Pe 46 images\n",
      "Pi 46 images\n",
      "Po 46 images\n",
      "Pu 46 images\n",
      "Pya 46 images\n",
      "Pyo 46 images\n",
      "Pyu 46 images\n",
      "Ra 46 images\n",
      "Re 46 images\n",
      "Ri 46 images\n",
      "Ro 46 images\n",
      "Ru 46 images\n",
      "Rya 46 images\n",
      "Ryo 46 images\n",
      "Ryu 46 images\n",
      "Sa 46 images\n",
      "Se 46 images\n",
      "Sha 46 images\n",
      "Shi 46 images\n",
      "Sho 46 images\n",
      "Shu 46 images\n",
      "So 46 images\n",
      "Su 46 images\n",
      "Ta 46 images\n",
      "Te 46 images\n",
      "To 46 images\n",
      "Tsu 46 images\n",
      "U 46 images\n",
      "Wa 46 images\n",
      "Wo 46 images\n",
      "Ya 46 images\n",
      "Yo 46 images\n",
      "Yu 46 images\n",
      "Za 46 images\n",
      "Ze 46 images\n",
      "Zo 46 images\n",
      "Zu 46 images\n",
      "Zu_2 46 images\n",
      "A 46 images\n",
      "Ba 46 images\n",
      "Be 46 images\n",
      "Bi 46 images\n",
      "Bo 46 images\n",
      "Bu 46 images\n",
      "Bya 46 images\n",
      "Byo 46 images\n",
      "Byu 46 images\n",
      "Cha 46 images\n",
      "Che 46 images\n",
      "Chi 46 images\n",
      "Cho 46 images\n",
      "Chu 46 images\n",
      "Da 46 images\n",
      "De 46 images\n",
      "Di 46 images\n",
      "Do 46 images\n",
      "Du 46 images\n",
      "Dyu 46 images\n",
      "E 46 images\n",
      "Fa 46 images\n",
      "Fe 46 images\n",
      "Fi 46 images\n",
      "Fo 46 images\n",
      "Fu 46 images\n",
      "Ga 46 images\n",
      "Ge 46 images\n",
      "Gi 46 images\n",
      "Go 46 images\n",
      "Gu 46 images\n",
      "Gya 46 images\n",
      "Gyo 46 images\n",
      "Gyu 46 images\n",
      "Ha 46 images\n",
      "He 46 images\n",
      "Hi 46 images\n",
      "Ho 46 images\n",
      "Hya 46 images\n",
      "Hyo 46 images\n",
      "Hyu 46 images\n",
      "I 46 images\n",
      "Ja 46 images\n",
      "Je 46 images\n",
      "Ji 46 images\n",
      "Ji_2 46 images\n",
      "Jo 46 images\n",
      "Ju 46 images\n",
      "Ka 46 images\n",
      "Ke 46 images\n",
      "Ki 46 images\n",
      "Ko 46 images\n",
      "Ku 46 images\n",
      "Kya 46 images\n",
      "Kyo 46 images\n",
      "Kyu 46 images\n",
      "Ma 46 images\n",
      "Me 46 images\n",
      "Mi 46 images\n",
      "Mo 46 images\n",
      "Mu 46 images\n",
      "Mya 46 images\n",
      "Myo 46 images\n",
      "Myu 46 images\n",
      "N 46 images\n",
      "Na 46 images\n",
      "Ne 46 images\n",
      "Ni 46 images\n",
      "No 46 images\n",
      "Nu 46 images\n",
      "Nya 46 images\n",
      "Nyo 46 images\n",
      "Nyu 46 images\n",
      "O 46 images\n",
      "Pa 46 images\n",
      "Pe 46 images\n",
      "Pi 46 images\n",
      "Po 46 images\n",
      "Pu 46 images\n",
      "Pya 46 images\n",
      "Pyo 46 images\n",
      "Pyu 46 images\n",
      "Ra 46 images\n",
      "Re 46 images\n",
      "Ri 46 images\n",
      "Ro 46 images\n",
      "Ru 46 images\n",
      "Rya 46 images\n",
      "Ryo 46 images\n",
      "Ryu 46 images\n",
      "Sa 46 images\n",
      "Se 46 images\n",
      "Sha 46 images\n",
      "She 46 images\n",
      "Shi 46 images\n",
      "Sho 46 images\n",
      "Shu 46 images\n",
      "So 46 images\n",
      "Su 46 images\n",
      "Ta 46 images\n",
      "Te 46 images\n",
      "Ti 46 images\n",
      "To 46 images\n",
      "Tsa 46 images\n",
      "Tse 46 images\n",
      "Tso 46 images\n",
      "Tsu 46 images\n",
      "Tu 46 images\n",
      "U 46 images\n",
      "Wa 46 images\n",
      "We 46 images\n",
      "Wi 46 images\n",
      "Wo 46 images\n",
      "Wo_2 46 images\n",
      "Ya 46 images\n",
      "Yo 46 images\n",
      "Yu 46 images\n",
      "Za 46 images\n",
      "Ze 46 images\n",
      "Zo 46 images\n",
      "Zu 46 images\n",
      "Zu_2 46 images\n"
     ]
    }
   ],
   "source": [
    "print('Train Data')\n",
    "for label in letter_labels:\n",
    "    if label[0] >= 104:\n",
    "        print('{} {} images'.format(label[1],\n",
    "                                    len(os.listdir(os.path.join(katakana_train_dir,\n",
    "                                                                \"Katakana_\"+label[2])))))\n",
    "    else :\n",
    "        print('{} {} images'.format(label[1],\n",
    "                                    len(os.listdir(os.path.join(hiragana_train_dir,\n",
    "                                                                \"Hiragana_\"+label[2])))))\n",
    "\n",
    "print('Test Data')\n",
    "for label in letter_labels:\n",
    "    if label[0] >= 104:\n",
    "        print('{} {} images'.format(label[1],\n",
    "                                    len(os.listdir(os.path.join(katakana_train_dir,\n",
    "                                                                \"Katakana_\"+label[2])))))\n",
    "    else :\n",
    "        print('{} {} images'.format(label[1],\n",
    "                                    len(os.listdir(os.path.join(hiragana_train_dir,\n",
    "                                                                \"Hiragana_\"+label[2])))))"
   ]
  },
  {
   "cell_type": "code",
   "execution_count": 5,
   "metadata": {},
   "outputs": [],
   "source": [
    "def input_data(data, k_dir, h_dir):\n",
    "    for label_num, label in enumerate(letter_labels):\n",
    "        if label[0] >= 104:\n",
    "            for file in os.listdir(os.path.join(k_dir, \"Katakana_\"+label[1])):\n",
    "                data.append(['{}/{}/{}'.format(k_dir,\n",
    "                                                \"Katakana_\"+label[1],\n",
    "                                                file),\n",
    "                                label_num, label[1]])\n",
    "        else :\n",
    "            for file in os.listdir(os.path.join(h_dir, \"Hiragana_\"+label[1])):\n",
    "                data.append(['{}/{}/{}'.format(h_dir,\n",
    "                                                \"Hiragana_\"+label[1],\n",
    "                                                file),\n",
    "                                label_num, label[1]])\n",
    "    return data\n",
    "\n",
    "# def input_data(data, k_dir, h_dir, fold):\n",
    "#     for label_num, label in enumerate(letter_labels):\n",
    "#         if label[0] >= 104:\n",
    "#             for i in fold:\n",
    "#                 for file in os.listdir(os.path.join(k_dir, \"Katakana_\"+label[1])):\n",
    "#                     if file[-5:-4] == i:\n",
    "#                         data.append(['{}/{}/{}'.format(k_dir,\n",
    "#                                                         \"Katakana_\"+label[1],\n",
    "#                                                         file),\n",
    "#                                       label_num, label[1]])\n",
    "#         else :\n",
    "#             for i in fold:\n",
    "#                 for file in os.listdir(os.path.join(h_dir, \"Hiragana_\"+label[1])):\n",
    "#                     if file[-5:-4] == i:\n",
    "#                         data.append(['{}/{}/{}'.format(h_dir,\n",
    "#                                                         \"Hiragana_\"+label[1],\n",
    "#                                                         file),\n",
    "#                                       label_num, label[1]])\n",
    "#     return data"
   ]
  },
  {
   "cell_type": "code",
   "execution_count": 6,
   "metadata": {},
   "outputs": [
    {
     "name": "stdout",
     "output_type": "stream",
     "text": [
      "Training Data:  (10396, 3)\n",
      "                                                file  label_num english_word\n",
      "0  ../thesis_program/data_image/train/Hiragana/Hi...          0            A\n",
      "1  ../thesis_program/data_image/train/Hiragana/Hi...          0            A\n",
      "2  ../thesis_program/data_image/train/Hiragana/Hi...          0            A\n",
      "3  ../thesis_program/data_image/train/Hiragana/Hi...          0            A\n",
      "4  ../thesis_program/data_image/train/Hiragana/Hi...          0            A\n"
     ]
    }
   ],
   "source": [
    "train = []\n",
    "\n",
    "# fold_train_1 = [\"1\",\"2\"]\n",
    "# fold_train_2 = [\"1\",\"3\"]\n",
    "# fold_train_3 = [\"2\",\"3\"]\n",
    "\n",
    "train = input_data(train, katakana_train_dir, hiragana_train_dir)\n",
    "# train = input_data(train, katakana_dir, hiragana_dir, fold_train_1)\n",
    "# train = input_data(train, katakana_dir, hiragana_dir, fold_train_2)\n",
    "# train = input_data(train, katakana_dir, hiragana_dir, fold_train_3)\n",
    "\n",
    "train = pd.DataFrame(train, columns=['file', 'label_num', 'english_word'])\n",
    "\n",
    "print('Training Data: ',train.shape)\n",
    "print(train.head(5))"
   ]
  },
  {
   "cell_type": "code",
   "execution_count": 7,
   "metadata": {
    "pycharm": {
     "name": "#%%\n"
    }
   },
   "outputs": [],
   "source": [
    "x_train = []\n",
    "\n",
    "for i in range(len(train)):\n",
    "    file_name = format(train['file'][i])\n",
    "    img = cv2.imread(file_name)\n",
    "#     img_resize = cv2.resize(img,dsize=(63,63))\n",
    "#     img_resize = cv2.resize(img,dsize=(66,66))\n",
    "    img_resize = cv2.resize(img,dsize=(69,69))\n",
    "#     img_resize = cv2.resize(img,dsize=(72,72))\n",
    "    grayImage = cv2.bitwise_not(cv2.cvtColor(img_resize,\n",
    "                                             cv2.COLOR_BGR2GRAY))\n",
    "    (thresh, blackAndWhiteImage) = cv2.threshold(grayImage,\n",
    "                                                 127, 1,\n",
    "                                                 cv2.THRESH_BINARY)\n",
    "    img_dilation = cv2.dilate(blackAndWhiteImage,\n",
    "                              np.ones((3, 3), np.uint8),\n",
    "                              iterations=1)\n",
    "    img_erotion = cv2.erode(img_dilation,\n",
    "                            np.ones((3, 3), np.uint8),\n",
    "                            iterations=2)\n",
    "#     img_stack = np.reshape(img_erotion,(63,63,1))\n",
    "#     img_stack = np.reshape(img_erotion,(66,66,1))\n",
    "    img_stack = np.reshape(img_erotion,(69,69,1))\n",
    "#     img_stack = np.reshape(img_erotion,(72,72,1))\n",
    "    x_train.append(np.concatenate((np.array(img_resize),\n",
    "                                   np.array(img_stack)), axis=2))\n",
    "\n",
    "x_train = np.array(x_train)"
   ]
  },
  {
   "cell_type": "code",
   "execution_count": 8,
   "metadata": {
    "jupyter": {
     "outputs_hidden": false
    },
    "pycharm": {
     "name": "#%%\n"
    }
   },
   "outputs": [
    {
     "data": {
      "image/png": "[encoded data removed]",
      "text/plain": [
       "<Figure size 432x288 with 1 Axes>"
      ]
     },
     "metadata": {
      "needs_background": "light"
     },
     "output_type": "display_data"
    },
    {
     "data": {
      "image/png": "[encoded data removed]",
      "text/plain": [
       "<Figure size 432x288 with 1 Axes>"
      ]
     },
     "metadata": {
      "needs_background": "light"
     },
     "output_type": "display_data"
    },
    {
     "data": {
      "image/png": "[encoded data removed]",
      "text/plain": [
       "<Figure size 432x288 with 1 Axes>"
      ]
     },
     "metadata": {
      "needs_background": "light"
     },
     "output_type": "display_data"
    }
   ],
   "source": [
    "Input_image = cv2.imread(train['file'][len(train)-1])\n",
    "\n",
    "plt.imshow(Input_image)\n",
    "plt.title('Input image, Shape: '+str(Input_image.shape))\n",
    "plt.show()\n",
    "\n",
    "plt.imshow(img_resize)\n",
    "plt.title('Resized image, Shape: '+str(img_resize.shape))\n",
    "plt.show()\n",
    "\n",
    "# plt.imshow(np.reshape(img_stack,(63,63)))\n",
    "# plt.imshow(np.reshape(img_stack,(66,66)))\n",
    "plt.imshow(np.reshape(img_stack,(69,69)))\n",
    "# plt.imshow(np.reshape(img_stack,(72,72)))\n",
    "plt.title('Processed image, Shape: '+str(img_stack.shape))\n",
    "plt.show()"
   ]
  },
  {
   "cell_type": "code",
   "execution_count": 9,
   "metadata": {
    "jupyter": {
     "outputs_hidden": false
    },
    "pycharm": {
     "name": "#%%\n"
    }
   },
   "outputs": [],
   "source": [
    "labels = train['label_num']\n",
    "labels = to_categorical(labels, num_classes = len(letter_labels))"
   ]
  },
  {
   "cell_type": "code",
   "execution_count": 10,
   "metadata": {
    "jupyter": {
     "outputs_hidden": false
    },
    "pycharm": {
     "name": "#%%\n"
    }
   },
   "outputs": [],
   "source": [
    "x_train, x_val, y_train, y_val = train_test_split(x_train,\n",
    "                                                  labels,\n",
    "                                                  test_size = 0.1)"
   ]
  },
  {
   "cell_type": "code",
   "execution_count": 11,
   "metadata": {
    "jupyter": {
     "outputs_hidden": false
    },
    "pycharm": {
     "name": "#%%\n"
    }
   },
   "outputs": [
    {
     "name": "stdout",
     "output_type": "stream",
     "text": [
      "Input Shape is : (69, 69, 4)\n"
     ]
    }
   ],
   "source": [
    "input_shape = x_train[1].shape\n",
    "print('Input Shape is :', input_shape)"
   ]
  },
  {
   "cell_type": "code",
   "execution_count": 12,
   "metadata": {},
   "outputs": [
    {
     "name": "stdout",
     "output_type": "stream",
     "text": [
      "                                                file  label_num english_word\n",
      "0  ../thesis_program/data_image/test/Hiragana/Hir...          0            A\n",
      "1  ../thesis_program/data_image/test/Hiragana/Hir...          0            A\n",
      "2  ../thesis_program/data_image/test/Hiragana/Hir...          0            A\n",
      "3  ../thesis_program/data_image/test/Hiragana/Hir...          0            A\n",
      "4  ../thesis_program/data_image/test/Hiragana/Hir...          0            A\n"
     ]
    }
   ],
   "source": [
    "test = []\n",
    "\n",
    "# fold_test_1 = [\"3\"]\n",
    "# fold_test_2 = [\"2\"]\n",
    "# fold_test_3 = [\"1\"]\n",
    "\n",
    "test = input_data(test, katakana_test_dir, hiragana_test_dir)\n",
    "# test = input_data(test, katakana_dir, hiragana_dir, fold_test_1)\n",
    "# test = input_data(test, katakana_dir, hiragana_dir, fold_test_2)\n",
    "# test = input_data(test, katakana_dir, hiragana_dir, fold_test_3)\n",
    "\n",
    "test = pd.DataFrame(test, columns=['file', 'label_num', 'english_word'])\n",
    "print(test.head(5))"
   ]
  },
  {
   "cell_type": "code",
   "execution_count": 13,
   "metadata": {
    "pycharm": {
     "name": "#%%\n"
    }
   },
   "outputs": [],
   "source": [
    "x_test = []\n",
    "\n",
    "for i in range(len(test)):\n",
    "    img = cv2.imread(test['file'][i])\n",
    "#     img_resize = cv2.resize(img,dsize=(63,63))\n",
    "#     img_resize = cv2.resize(img,dsize=(66,66))\n",
    "    img_resize = cv2.resize(img,dsize=(69,69))\n",
    "#     img_resize = cv2.resize(img,dsize=(72,72))\n",
    "    grayImage = cv2.bitwise_not(cv2.cvtColor(img_resize,\n",
    "                                             cv2.COLOR_BGR2GRAY))\n",
    "    (thresh, blackAndWhiteImage) = cv2.threshold(grayImage,\n",
    "                                                 127, 1,\n",
    "                                                 cv2.THRESH_BINARY)\n",
    "    img_dilation = cv2.dilate(blackAndWhiteImage,\n",
    "                              np.ones((3, 3), np.uint8),\n",
    "                              iterations=1)\n",
    "    img_erotion = cv2.erode(img_dilation,\n",
    "                            np.ones((3, 3), np.uint8),\n",
    "                            iterations=2)\n",
    "#     img_stack = np.reshape(img_erotion,(63,63,1))\n",
    "#     img_stack = np.reshape(img_erotion,(66,66,1))\n",
    "    img_stack = np.reshape(img_erotion,(69,69,1))\n",
    "#     img_stack = np.reshape(img_erotion,(72,72,1))\n",
    "    x_test.append(np.concatenate((np.array(img_resize),\n",
    "                                  np.array(img_stack)), axis=2))\n",
    "\n",
    "x_test = np.array(x_test)"
   ]
  },
  {
   "cell_type": "code",
   "execution_count": 14,
   "metadata": {},
   "outputs": [],
   "source": [
    "y_test = test['label_num']\n",
    "y_test = to_categorical(y_test, num_classes = len(letter_labels))"
   ]
  },
  {
   "cell_type": "code",
   "execution_count": 15,
   "metadata": {},
   "outputs": [
    {
     "name": "stdout",
     "output_type": "stream",
     "text": [
      "Test Shape is : (69, 69, 4)\n"
     ]
    }
   ],
   "source": [
    "test_shape = x_test[1].shape\n",
    "print('Test Shape is :', test_shape)"
   ]
  },
  {
   "cell_type": "code",
   "execution_count": 16,
   "metadata": {
    "jupyter": {
     "outputs_hidden": false
    },
    "pycharm": {
     "name": "#%%\n"
    }
   },
   "outputs": [
    {
     "data": {
      "image/png": "[encoded data removed]",
      "text/plain": [
       "<Figure size 432x288 with 1 Axes>"
      ]
     },
     "metadata": {
      "needs_background": "light"
     },
     "output_type": "display_data"
    },
    {
     "data": {
      "image/png": "[encoded data removed]",
      "text/plain": [
       "<Figure size 432x288 with 1 Axes>"
      ]
     },
     "metadata": {
      "needs_background": "light"
     },
     "output_type": "display_data"
    }
   ],
   "source": [
    "randm = np.random.randint(0,len(test))\n",
    "\n",
    "img = cv2.imread(test['file'][randm])\n",
    "plt.imshow(img)\n",
    "plt.show()\n",
    "\n",
    "# plt.imshow(np.reshape(img_stack,(63,63)))\n",
    "# plt.imshow(np.reshape(img_stack,(66,66)))\n",
    "plt.imshow(np.reshape(img_stack,(69,69)))\n",
    "# plt.imshow(np.reshape(img_stack,(72,72)))\n",
    "plt.title('Processed image, Shape: '+str(img_stack.shape))\n",
    "plt.show()"
   ]
  },
  {
   "cell_type": "code",
   "execution_count": 17,
   "metadata": {
    "jupyter": {
     "outputs_hidden": false
    },
    "pycharm": {
     "name": "#%%\n"
    }
   },
   "outputs": [
    {
     "name": "stdout",
     "output_type": "stream",
     "text": [
      "Model: \"functional_1\"\n",
      "__________________________________________________________________________________________________\n",
      "Layer (type)                    Output Shape         Param #     Connected to                     \n",
      "==================================================================================================\n",
      "input_1 (InputLayer)            [(None, 69, 69, 4)]  0                                            \n",
      "__________________________________________________________________________________________________\n",
      "conv2d (Conv2D)                 (None, 33, 33, 16)   1616        input_1[0][0]                    \n",
      "__________________________________________________________________________________________________\n",
      "leaky_re_lu (LeakyReLU)         (None, 33, 33, 16)   0           conv2d[0][0]                     \n",
      "__________________________________________________________________________________________________\n",
      "conv2d_1 (Conv2D)               (None, 33, 33, 16)   2320        leaky_re_lu[0][0]                \n",
      "__________________________________________________________________________________________________\n",
      "conv2d_2 (Conv2D)               (None, 33, 33, 16)   6416        leaky_re_lu[0][0]                \n",
      "__________________________________________________________________________________________________\n",
      "leaky_re_lu_1 (LeakyReLU)       (None, 33, 33, 16)   0           conv2d_1[0][0]                   \n",
      "__________________________________________________________________________________________________\n",
      "leaky_re_lu_2 (LeakyReLU)       (None, 33, 33, 16)   0           conv2d_2[0][0]                   \n",
      "__________________________________________________________________________________________________\n",
      "concatenate (Concatenate)       (None, 33, 33, 32)   0           leaky_re_lu_1[0][0]              \n",
      "                                                                 leaky_re_lu_2[0][0]              \n",
      "__________________________________________________________________________________________________\n",
      "max_pooling2d (MaxPooling2D)    (None, 16, 16, 32)   0           concatenate[0][0]                \n",
      "__________________________________________________________________________________________________\n",
      "conv2d_3 (Conv2D)               (None, 16, 16, 64)   2112        max_pooling2d[0][0]              \n",
      "__________________________________________________________________________________________________\n",
      "leaky_re_lu_3 (LeakyReLU)       (None, 16, 16, 64)   0           conv2d_3[0][0]                   \n",
      "__________________________________________________________________________________________________\n",
      "conv2d_4 (Conv2D)               (None, 16, 16, 64)   4160        leaky_re_lu_3[0][0]              \n",
      "__________________________________________________________________________________________________\n",
      "conv2d_5 (Conv2D)               (None, 16, 16, 64)   36928       leaky_re_lu_3[0][0]              \n",
      "__________________________________________________________________________________________________\n",
      "leaky_re_lu_4 (LeakyReLU)       (None, 16, 16, 64)   0           conv2d_4[0][0]                   \n",
      "__________________________________________________________________________________________________\n",
      "leaky_re_lu_5 (LeakyReLU)       (None, 16, 16, 64)   0           conv2d_5[0][0]                   \n",
      "__________________________________________________________________________________________________\n",
      "concatenate_1 (Concatenate)     (None, 16, 16, 128)  0           leaky_re_lu_4[0][0]              \n",
      "                                                                 leaky_re_lu_5[0][0]              \n",
      "__________________________________________________________________________________________________\n",
      "max_pooling2d_1 (MaxPooling2D)  (None, 8, 8, 128)    0           concatenate_1[0][0]              \n",
      "__________________________________________________________________________________________________\n",
      "conv2d_6 (Conv2D)               (None, 8, 8, 64)     8256        max_pooling2d_1[0][0]            \n",
      "__________________________________________________________________________________________________\n",
      "leaky_re_lu_6 (LeakyReLU)       (None, 8, 8, 64)     0           conv2d_6[0][0]                   \n",
      "__________________________________________________________________________________________________\n",
      "conv2d_7 (Conv2D)               (None, 8, 8, 64)     4160        leaky_re_lu_6[0][0]              \n",
      "__________________________________________________________________________________________________\n",
      "conv2d_8 (Conv2D)               (None, 8, 8, 64)     36928       leaky_re_lu_6[0][0]              \n",
      "__________________________________________________________________________________________________\n",
      "leaky_re_lu_7 (LeakyReLU)       (None, 8, 8, 64)     0           conv2d_7[0][0]                   \n",
      "__________________________________________________________________________________________________\n",
      "leaky_re_lu_8 (LeakyReLU)       (None, 8, 8, 64)     0           conv2d_8[0][0]                   \n",
      "__________________________________________________________________________________________________\n",
      "concatenate_2 (Concatenate)     (None, 8, 8, 128)    0           leaky_re_lu_7[0][0]              \n",
      "                                                                 leaky_re_lu_8[0][0]              \n",
      "__________________________________________________________________________________________________\n",
      "max_pooling2d_2 (MaxPooling2D)  (None, 4, 4, 128)    0           concatenate_2[0][0]              \n",
      "__________________________________________________________________________________________________\n",
      "conv2d_9 (Conv2D)               (None, 3, 3, 64)     32832       max_pooling2d_2[0][0]            \n",
      "__________________________________________________________________________________________________\n",
      "leaky_re_lu_9 (LeakyReLU)       (None, 3, 3, 64)     0           conv2d_9[0][0]                   \n",
      "__________________________________________________________________________________________________\n",
      "flatten (Flatten)               (None, 576)          0           leaky_re_lu_9[0][0]              \n",
      "__________________________________________________________________________________________________\n",
      "dense (Dense)                   (None, 512)          295424      flatten[0][0]                    \n",
      "__________________________________________________________________________________________________\n",
      "leaky_re_lu_10 (LeakyReLU)      (None, 512)          0           dense[0][0]                      \n",
      "__________________________________________________________________________________________________\n",
      "dropout (Dropout)               (None, 512)          0           leaky_re_lu_10[0][0]             \n",
      "__________________________________________________________________________________________________\n",
      "dense_1 (Dense)                 (None, 226)          115938      dropout[0][0]                    \n",
      "==================================================================================================\n",
      "Total params: 547,090\n",
      "Trainable params: 547,090\n",
      "Non-trainable params: 0\n",
      "__________________________________________________________________________________________________\n"
     ]
    }
   ],
   "source": [
    "def fire_incepter(x, fire=16, intercept=64):\n",
    "    x = Conv2D(fire, (5,5), strides=(2,2))(x)\n",
    "    x = LeakyReLU(alpha=0.15)(x)\n",
    "\n",
    "    left = Conv2D(intercept, (3,3), padding='same')(x)\n",
    "    left = LeakyReLU(alpha=0.15)(left)\n",
    "\n",
    "    right = Conv2D(intercept, (5,5), padding='same')(x)\n",
    "    right = LeakyReLU(alpha=0.15)(right)\n",
    "\n",
    "    x = concatenate([left, right], axis=3)\n",
    "    x = MaxPooling2D(strides=2, pool_size=3)(x)\n",
    "    return x\n",
    "\n",
    "def fire_squeezer(x, fire=16, intercept=64):\n",
    "    x = Conv2D(fire, (1,1))(x)\n",
    "    x = LeakyReLU(alpha=0.15)(x)\n",
    "\n",
    "    left = Conv2D(intercept, (1,1))(x)\n",
    "    left = LeakyReLU(alpha=0.15)(left)\n",
    "\n",
    "    right = Conv2D(intercept, (3,3), padding='same')(x)\n",
    "    right = LeakyReLU(alpha=0.15)(right)\n",
    "\n",
    "    x = concatenate([left, right], axis=3)\n",
    "    x = MaxPooling2D(strides=2, pool_size=2)(x)\n",
    "    return x\n",
    "\n",
    "image_input=Input(shape=input_shape)\n",
    "\n",
    "x = fire_incepter(image_input, fire=16, intercept=16)\n",
    "\n",
    "x = fire_squeezer(x, fire=64, intercept=64)\n",
    "\n",
    "x = fire_squeezer(x, fire=64, intercept=64)\n",
    "\n",
    "x = Conv2D(64, (2,2))(x)\n",
    "x = LeakyReLU(alpha=0.1)(x)\n",
    "\n",
    "x = Flatten()(x)\n",
    "\n",
    "x = Dense(512)(x)\n",
    "x = LeakyReLU(alpha=0.1)(x)\n",
    "x = Dropout(0.1)(x)\n",
    "\n",
    "out = Dense(len(letter_labels), activation='softmax')(x)\n",
    "\n",
    "model_new = Model(image_input, out)\n",
    "model_new.summary()"
   ]
  },
  {
   "cell_type": "code",
   "execution_count": 18,
   "metadata": {
    "jupyter": {
     "outputs_hidden": false
    },
    "pycharm": {
     "name": "#%%\n"
    }
   },
   "outputs": [
    {
     "name": "stdout",
     "output_type": "stream",
     "text": [
      "Epoch 1/30\n",
      "293/293 [==============================] - 110s 376ms/step - loss: 3.8304 - accuracy: 0.2456 - val_loss: 1.5436 - val_accuracy: 0.5452\n",
      "Epoch 2/30\n",
      "293/293 [==============================] - 89s 303ms/step - loss: 1.0299 - accuracy: 0.6935 - val_loss: 0.8492 - val_accuracy: 0.7260\n",
      "Epoch 3/30\n",
      "293/293 [==============================] - 88s 299ms/step - loss: 0.5204 - accuracy: 0.8353 - val_loss: 0.6237 - val_accuracy: 0.7962\n",
      "Epoch 4/30\n",
      "293/293 [==============================] - 90s 306ms/step - loss: 0.3243 - accuracy: 0.8930 - val_loss: 0.5433 - val_accuracy: 0.8413\n",
      "Epoch 5/30\n",
      "293/293 [==============================] - 109s 372ms/step - loss: 0.2464 - accuracy: 0.9207 - val_loss: 0.5615 - val_accuracy: 0.8394\n",
      "Epoch 6/30\n",
      "293/293 [==============================] - 80s 273ms/step - loss: 0.2311 - accuracy: 0.9260 - val_loss: 0.5192 - val_accuracy: 0.8548\n",
      "Epoch 7/30\n",
      "293/293 [==============================] - 79s 270ms/step - loss: 0.1650 - accuracy: 0.9469 - val_loss: 0.5675 - val_accuracy: 0.8587\n",
      "Epoch 8/30\n",
      "293/293 [==============================] - 80s 274ms/step - loss: 0.1582 - accuracy: 0.9490 - val_loss: 0.7007 - val_accuracy: 0.8298\n",
      "Epoch 9/30\n",
      "293/293 [==============================] - 84s 287ms/step - loss: 0.1467 - accuracy: 0.9502 - val_loss: 0.7152 - val_accuracy: 0.8471\n"
     ]
    }
   ],
   "source": [
    "model_new.compile(optimizer = Adam(learning_rate=0.001) ,\n",
    "                  loss = 'categorical_crossentropy',\n",
    "                  metrics=['accuracy'])\n",
    "\n",
    "epochs = 30\n",
    "\n",
    "history = model_new.fit(x=x_train, y=y_train, validation_data=(x_val, y_val),\n",
    "                        batch_size = 32, epochs=epochs,\n",
    "                        callbacks=[EarlyStopping(monitor='val_loss',\n",
    "#                         callbacks=[EarlyStopping(monitor='val_accuracy',\n",
    "                                    patience=3,\n",
    "#                                     patience=0,\n",
    "                                    mode='auto')]\n",
    "             )"
   ]
  },
  {
   "cell_type": "code",
   "execution_count": 19,
   "metadata": {},
   "outputs": [
    {
     "data": {
      "image/png": "[encoded data removed]",
      "text/plain": [
       "<Figure size 432x288 with 1 Axes>"
      ]
     },
     "metadata": {
      "needs_background": "light"
     },
     "output_type": "display_data"
    },
    {
     "data": {
      "image/png": "[encoded data removed]",
      "text/plain": [
       "<Figure size 432x288 with 1 Axes>"
      ]
     },
     "metadata": {
      "needs_background": "light"
     },
     "output_type": "display_data"
    }
   ],
   "source": [
    "plt.plot(history.history['loss'])\n",
    "plt.plot(history.history['val_loss'])\n",
    "plt.title('Training for ' +str(30)+ ' epochs')\n",
    "plt.legend(['Training Loss', 'Validation Loss'], loc='upper right')\n",
    "plt.show()\n",
    "\n",
    "plt.plot(history.history['accuracy'])\n",
    "plt.plot(history.history['val_accuracy'])\n",
    "plt.title('Training for ' +str(30)+ ' epochs')\n",
    "plt.legend(['Training accuracy', 'Validation accuracy'], loc='lower right')\n",
    "plt.show()"
   ]
  },
  {
   "cell_type": "code",
   "execution_count": 20,
   "metadata": {
    "jupyter": {
     "outputs_hidden": false
    },
    "pycharm": {
     "name": "#%%\n"
    }
   },
   "outputs": [
    {
     "name": "stdout",
     "output_type": "stream",
     "text": [
      "33/33 [==============================] - 2s 70ms/step - loss: 0.7152 - accuracy: 0.8471\n",
      "Accuracy on Validation Set 0.8471\n"
     ]
    }
   ],
   "source": [
    "score = model_new.evaluate(x_val,y_val)\n",
    "print('Accuracy on Validation Set', round(score[1],4))"
   ]
  },
  {
   "cell_type": "code",
   "execution_count": 21,
   "metadata": {
    "pycharm": {
     "name": "#%%\n"
    }
   },
   "outputs": [
    {
     "name": "stdout",
     "output_type": "stream",
     "text": [
      "                                                file english_word\n",
      "0  ../thesis_program/data_image/test/Hiragana/Hir...            A\n",
      "1  ../thesis_program/data_image/test/Hiragana/Hir...            A\n",
      "2  ../thesis_program/data_image/test/Hiragana/Hir...            A\n",
      "3  ../thesis_program/data_image/test/Hiragana/Hir...            A\n",
      "4  ../thesis_program/data_image/test/Hiragana/Hir...            A\n",
      "\n",
      "Data test Accuracy :  0.8594\n"
     ]
    }
   ],
   "source": [
    "Pred_labels = np.argmax(model_new.predict(x_test),axis = 1)\n",
    "\n",
    "Pred_labels = pd.DataFrame(Pred_labels,index =None,columns=['label_num'])\n",
    "\n",
    "test_df = pd.DataFrame()\n",
    "test_df['label_num'] = Pred_labels['label_num']\n",
    "test_df['file'] = test['file']\n",
    "test_df['english_word'] = [letter_labels[i][2] for i in Pred_labels['label_num']]\n",
    "\n",
    "submission = pd.merge(left=sample_submission, right=test_df[['file',\n",
    "                                                             'english_word']],\n",
    "                      on=\"file\", how=\"right\")\n",
    "submission.drop(['english_word_x'], axis = 1, inplace = True)\n",
    "submission.columns = ['file','english_word']\n",
    "\n",
    "submission.to_csv('submission.csv', index=False)\n",
    "print(submission.head())\n",
    "\n",
    "print('')\n",
    "print('Data test Accuracy : ', round(accuracy_score(np.argmax(y_test, axis=1), Pred_labels),4))"
   ]
  },
  {
   "cell_type": "code",
   "execution_count": 22,
   "metadata": {
    "pycharm": {
     "name": "#%%\n"
    }
   },
   "outputs": [
    {
     "name": "stdout",
     "output_type": "stream",
     "text": [
      "(9356, 226)\n",
      "\n",
      "fitting done !!!\n"
     ]
    },
    {
     "data": {
      "text/plain": [
       "0.9711"
      ]
     },
     "execution_count": 22,
     "metadata": {},
     "output_type": "execute_result"
    }
   ],
   "source": [
    "from sklearn.svm import SVC\n",
    "\n",
    "model_feat = Model(inputs=model_new.input,outputs=model_new.get_layer('dense_1').output)\n",
    "\n",
    "feat_train = model_feat.predict(x_train)\n",
    "print(feat_train.shape)\n",
    "print('')\n",
    "\n",
    "svm = SVC(kernel='rbf')\n",
    "# svm = SVC(kernel='linear')\n",
    "# svm = SVC(kernel='poly', degree=2)\n",
    "# svm = SVC(kernel='poly', degree=3)\n",
    "# svm = SVC(kernel='sigmoid')\n",
    "\n",
    "svm.fit(feat_train,np.argmax(y_train,axis=1))\n",
    "\n",
    "print('fitting done !!!')\n",
    "\n",
    "round(svm.score(feat_train,np.argmax(y_train,axis=1)),4)"
   ]
  },
  {
   "cell_type": "code",
   "execution_count": 23,
   "metadata": {
    "pycharm": {
     "name": "#%%\n"
    }
   },
   "outputs": [
    {
     "name": "stdout",
     "output_type": "stream",
     "text": [
      "(1040, 226)\n"
     ]
    },
    {
     "data": {
      "text/plain": [
       "0.8596"
      ]
     },
     "execution_count": 23,
     "metadata": {},
     "output_type": "execute_result"
    }
   ],
   "source": [
    "feat_val = model_feat.predict(x_val)\n",
    "print(feat_val.shape)\n",
    "\n",
    "round(svm.score(feat_val,np.argmax(y_val,axis=1)),4)"
   ]
  },
  {
   "cell_type": "code",
   "execution_count": 36,
   "metadata": {
    "pycharm": {
     "name": "#%%\n"
    }
   },
   "outputs": [
    {
     "name": "stdout",
     "output_type": "stream",
     "text": [
      "(5198, 226)\n",
      "\n",
      "                                                file english_word\n",
      "0  ../thesis_program/data_image/test/Hiragana/Hir...            A\n",
      "1  ../thesis_program/data_image/test/Hiragana/Hir...            A\n",
      "2  ../thesis_program/data_image/test/Hiragana/Hir...            A\n",
      "3  ../thesis_program/data_image/test/Hiragana/Hir...            A\n",
      "4  ../thesis_program/data_image/test/Hiragana/Hir...            A\n",
      "\n",
      "Data test Accuracy :  0.8632\n"
     ]
    }
   ],
   "source": [
    "feat_test = model_feat.predict(x_test)\n",
    "print(feat_test.shape)\n",
    "print('')\n",
    "\n",
    "Pred_labels = svm.predict(feat_test)\n",
    "\n",
    "Pred_labels = pd.DataFrame(Pred_labels,index =None,columns=['label_num'])\n",
    "\n",
    "test_df = pd.DataFrame()\n",
    "test_df['label_num'] = Pred_labels['label_num']\n",
    "test_df['file'] = test['file']\n",
    "test_df['english_word'] = [letter_labels[i][2] for i in Pred_labels['label_num']]\n",
    "\n",
    "submission = pd.merge(left=sample_submission, right=test_df[['file',\n",
    "                                                             'english_word']],\n",
    "                      on=\"file\", how=\"right\")\n",
    "submission.drop(['english_word_x'], axis = 1, inplace = True)\n",
    "submission.columns = ['file','english_word'] \n",
    "submission.to_csv('submission_svm.csv', index=False)\n",
    "\n",
    "print(submission.head())\n",
    "\n",
    "print('')\n",
    "print('Data test Accuracy : ', round(accuracy_score(np.argmax(y_test, axis=1), Pred_labels),4))\n",
    "print('Loss :', hinge_loss(np.argmax(y_test, axis=1), Pred_labels['label_num'], labels=letter_labels))"
   ]
  },
  {
   "cell_type": "code",
   "execution_count": 41,
   "metadata": {},
   "outputs": [
    {
     "ename": "ValueError",
     "evalue": "y_true and y_pred contain different number of classes 226, 2. Please provide the true labels explicitly through the labels argument. Classes found in y_true: [  0   1   2   3   4   5   6   7   8   9  10  11  12  13  14  15  16  17\n  18  19  20  21  22  23  24  25  26  27  28  29  30  31  32  33  34  35\n  36  37  38  39  40  41  42  43  44  45  46  47  48  49  50  51  52  53\n  54  55  56  57  58  59  60  61  62  63  64  65  66  67  68  69  70  71\n  72  73  74  75  76  77  78  79  80  81  82  83  84  85  86  87  88  89\n  90  91  92  93  94  95  96  97  98  99 100 101 102 103 104 105 106 107\n 108 109 110 111 112 113 114 115 116 117 118 119 120 121 122 123 124 125\n 126 127 128 129 130 131 132 133 134 135 136 137 138 139 140 141 142 143\n 144 145 146 147 148 149 150 151 152 153 154 155 156 157 158 159 160 161\n 162 163 164 165 166 167 168 169 170 171 172 173 174 175 176 177 178 179\n 180 181 182 183 184 185 186 187 188 189 190 191 192 193 194 195 196 197\n 198 199 200 201 202 203 204 205 206 207 208 209 210 211 212 213 214 215\n 216 217 218 219 220 221 222 223 224 225]",
     "output_type": "error",
     "traceback": [
      "\u001b[1;31m---------------------------------------------------------------------------\u001b[0m",
      "\u001b[1;31mValueError\u001b[0m                                Traceback (most recent call last)",
      "\u001b[1;32m<ipython-input-41-b983de5722be>\u001b[0m in \u001b[0;36m<module>\u001b[1;34m\u001b[0m\n\u001b[0;32m      4\u001b[0m \u001b[1;33m\u001b[0m\u001b[0m\n\u001b[0;32m      5\u001b[0m \u001b[1;31m# print('Loss :', hinge_loss(y_test, Pred_labels['label_num'], labels=letter_labels))\u001b[0m\u001b[1;33m\u001b[0m\u001b[1;33m\u001b[0m\u001b[1;33m\u001b[0m\u001b[0m\n\u001b[1;32m----> 6\u001b[1;33m \u001b[0mprint\u001b[0m\u001b[1;33m(\u001b[0m\u001b[1;34m'Loss :'\u001b[0m\u001b[1;33m,\u001b[0m \u001b[0mlog_loss\u001b[0m\u001b[1;33m(\u001b[0m\u001b[0my_test\u001b[0m\u001b[1;33m,\u001b[0m \u001b[0mPred_labels\u001b[0m\u001b[1;33m[\u001b[0m\u001b[1;34m'label_num'\u001b[0m\u001b[1;33m]\u001b[0m\u001b[1;33m)\u001b[0m\u001b[1;33m)\u001b[0m\u001b[1;33m\u001b[0m\u001b[1;33m\u001b[0m\u001b[0m\n\u001b[0m",
      "\u001b[1;32mD:\\anaconda3\\lib\\site-packages\\sklearn\\utils\\validation.py\u001b[0m in \u001b[0;36minner_f\u001b[1;34m(*args, **kwargs)\u001b[0m\n\u001b[0;32m     70\u001b[0m                           FutureWarning)\n\u001b[0;32m     71\u001b[0m         \u001b[0mkwargs\u001b[0m\u001b[1;33m.\u001b[0m\u001b[0mupdate\u001b[0m\u001b[1;33m(\u001b[0m\u001b[1;33m{\u001b[0m\u001b[0mk\u001b[0m\u001b[1;33m:\u001b[0m \u001b[0marg\u001b[0m \u001b[1;32mfor\u001b[0m \u001b[0mk\u001b[0m\u001b[1;33m,\u001b[0m \u001b[0marg\u001b[0m \u001b[1;32min\u001b[0m \u001b[0mzip\u001b[0m\u001b[1;33m(\u001b[0m\u001b[0msig\u001b[0m\u001b[1;33m.\u001b[0m\u001b[0mparameters\u001b[0m\u001b[1;33m,\u001b[0m \u001b[0margs\u001b[0m\u001b[1;33m)\u001b[0m\u001b[1;33m}\u001b[0m\u001b[1;33m)\u001b[0m\u001b[1;33m\u001b[0m\u001b[1;33m\u001b[0m\u001b[0m\n\u001b[1;32m---> 72\u001b[1;33m         \u001b[1;32mreturn\u001b[0m \u001b[0mf\u001b[0m\u001b[1;33m(\u001b[0m\u001b[1;33m**\u001b[0m\u001b[0mkwargs\u001b[0m\u001b[1;33m)\u001b[0m\u001b[1;33m\u001b[0m\u001b[1;33m\u001b[0m\u001b[0m\n\u001b[0m\u001b[0;32m     73\u001b[0m     \u001b[1;32mreturn\u001b[0m \u001b[0minner_f\u001b[0m\u001b[1;33m\u001b[0m\u001b[1;33m\u001b[0m\u001b[0m\n\u001b[0;32m     74\u001b[0m \u001b[1;33m\u001b[0m\u001b[0m\n",
      "\u001b[1;32mD:\\anaconda3\\lib\\site-packages\\sklearn\\metrics\\_classification.py\u001b[0m in \u001b[0;36mlog_loss\u001b[1;34m(y_true, y_pred, eps, normalize, sample_weight, labels)\u001b[0m\n\u001b[0;32m   2224\u001b[0m     \u001b[1;32mif\u001b[0m \u001b[0mlen\u001b[0m\u001b[1;33m(\u001b[0m\u001b[0mlb\u001b[0m\u001b[1;33m.\u001b[0m\u001b[0mclasses_\u001b[0m\u001b[1;33m)\u001b[0m \u001b[1;33m!=\u001b[0m \u001b[0my_pred\u001b[0m\u001b[1;33m.\u001b[0m\u001b[0mshape\u001b[0m\u001b[1;33m[\u001b[0m\u001b[1;36m1\u001b[0m\u001b[1;33m]\u001b[0m\u001b[1;33m:\u001b[0m\u001b[1;33m\u001b[0m\u001b[1;33m\u001b[0m\u001b[0m\n\u001b[0;32m   2225\u001b[0m         \u001b[1;32mif\u001b[0m \u001b[0mlabels\u001b[0m \u001b[1;32mis\u001b[0m \u001b[1;32mNone\u001b[0m\u001b[1;33m:\u001b[0m\u001b[1;33m\u001b[0m\u001b[1;33m\u001b[0m\u001b[0m\n\u001b[1;32m-> 2226\u001b[1;33m             raise ValueError(\"y_true and y_pred contain different number of \"\n\u001b[0m\u001b[0;32m   2227\u001b[0m                              \u001b[1;34m\"classes {0}, {1}. Please provide the true \"\u001b[0m\u001b[1;33m\u001b[0m\u001b[1;33m\u001b[0m\u001b[0m\n\u001b[0;32m   2228\u001b[0m                              \u001b[1;34m\"labels explicitly through the labels argument. \"\u001b[0m\u001b[1;33m\u001b[0m\u001b[1;33m\u001b[0m\u001b[0m\n",
      "\u001b[1;31mValueError\u001b[0m: y_true and y_pred contain different number of classes 226, 2. Please provide the true labels explicitly through the labels argument. Classes found in y_true: [  0   1   2   3   4   5   6   7   8   9  10  11  12  13  14  15  16  17\n  18  19  20  21  22  23  24  25  26  27  28  29  30  31  32  33  34  35\n  36  37  38  39  40  41  42  43  44  45  46  47  48  49  50  51  52  53\n  54  55  56  57  58  59  60  61  62  63  64  65  66  67  68  69  70  71\n  72  73  74  75  76  77  78  79  80  81  82  83  84  85  86  87  88  89\n  90  91  92  93  94  95  96  97  98  99 100 101 102 103 104 105 106 107\n 108 109 110 111 112 113 114 115 116 117 118 119 120 121 122 123 124 125\n 126 127 128 129 130 131 132 133 134 135 136 137 138 139 140 141 142 143\n 144 145 146 147 148 149 150 151 152 153 154 155 156 157 158 159 160 161\n 162 163 164 165 166 167 168 169 170 171 172 173 174 175 176 177 178 179\n 180 181 182 183 184 185 186 187 188 189 190 191 192 193 194 195 196 197\n 198 199 200 201 202 203 204 205 206 207 208 209 210 211 212 213 214 215\n 216 217 218 219 220 221 222 223 224 225]"
     ]
    }
   ],
   "source": [
    "from sklearn.metrics import hinge_loss\n",
    "from sklearn.metrics import hamming_loss\n",
    "from sklearn.metrics import log_loss\n",
    "\n",
    "# print('Loss :', hinge_loss(y_test, Pred_labels['label_num'], labels=letter_labels))\n",
    "print('Loss :', log_loss(y_test, Pred_labels['label_num']))"
   ]
  },
  {
   "cell_type": "code",
   "execution_count": null,
   "metadata": {},
   "outputs": [],
   "source": []
  }
 ],
 "metadata": {
  "kernelspec": {
   "display_name": "Python 3",
   "language": "python",
   "name": "python3"
  },
  "language_info": {
   "codemirror_mode": {
    "name": "ipython",
    "version": 3
   },
   "file_extension": ".py",
   "mimetype": "text/x-python",
   "name": "python",
   "nbconvert_exporter": "python",
   "pygments_lexer": "ipython3",
   "version": "3.8.5"
  }
 },
 "nbformat": 4,
 "nbformat_minor": 4
}
